{
 "cells": [
  {
   "cell_type": "markdown",
   "id": "d487920e",
   "metadata": {},
   "source": [
    "<div style=\"text-align: center; padding: 20px;\">\n",
    "    <img src=\"austin-distel-744oGeqpxPQ-unsplash.jpeg\" alt=\"​​Subscription Renewal Insights for a SaaS Company\" width=\"450\"/>\n",
    "</div>\n",
    "\n",
    "\n",
    "<!-- Image source - https://unsplash.com/photos/person-using-macbook-pro-744oGeqpxPQ\n",
    "-->"
   ]
  },
  {
   "cell_type": "markdown",
   "id": "f98bdeaa-eac6-4f30-b47e-d45e4eab9cb2",
   "metadata": {},
   "source": [
    "## 📖 The Background\n",
    "A SaaS company seeks to uncover what drives its clients to renew subscriptions. They’ve collected data on client details, subscription records, and economic indicators and would like to connect them to better understand its clients’ behavior.\n",
    "\n",
    "They’ve tasked you with analyzing these datasets to identify the key factors influencing clients’ decisions to renew their subscriptions.  \n",
    "Your analysis will provide them with insights into which customers are renewing their products and the reasons behind their renewals. The company can leverage these insights to make informed decisions to increase renewal rates and improve customer loyalty, helping them stay competitive and ensure long-term growth.\n",
    "\n",
    "\n",
    "## 💾 The Data\n",
    "The company have provided you with three datasets for your analysis. A summary of each data is provided below.\n",
    "\n",
    "#### `client_details.csv`\n",
    "\n",
    "| Column         | Description|\n",
    "|----------------|---------------------------------------------------------------|\n",
    "| `client_id`    | Unique identifier for each client. |\n",
    "| `company_size` | Size of the company (Small, Medium, Large).|\n",
    "| `industry`     | Industry to which the client belongs (Fintech, Gaming, Crypto, AI, E-commerce).|\n",
    "| `location`     | Location of the client (New York, New Jersey, Pennsylvania, Massachusetts, Connecticut).|\n",
    "\n",
    "#### `subscription_records.csv`\n",
    "\n",
    "| Column             | Description   |\n",
    "|--------------------|---------------|\n",
    "| `client_id`        | Unique identifier for each client.|\n",
    "| `subscription_type`| Type of subscription (Yearly, Monthly).|\n",
    "| `start_date`       | Start date of the subscription - YYYY-MM-DD.|\n",
    "| `end_date`         | End date of the subscription - YYYY-MM-DD.|\n",
    "| `renewed`          | Indicates whether the subscription was renewed (True, False).|\n",
    "\n",
    "#### `economic_indicators.csv`\n",
    "\n",
    "| Column           | Description                                       |\n",
    "|------------------|---------------------------------------------------|\n",
    "| `start_date`     | Start date of the economic indicator (Quarterly) - YYYY-MM-DD.|\n",
    "| `end_date`       | End date of the economic indicator (Quarterly) - YYYY-MM-DD.|\n",
    "| `inflation_rate` | Inflation rate in the period.|\n",
    "| `gdp_growth_rate`| Gross Domestic Product (GDP) growth rate in the period.|"
   ]
  },
  {
   "cell_type": "markdown",
   "id": "02677ebe",
   "metadata": {},
   "source": [
    "# Objectives\n",
    "1) How many total Fintech and Crypto clients does the company have?\n",
    "2) Which industry has the highest renewal rate?\n",
    "3) For clients that renewed their subscriptions, what was the average inflation rate when their subscriptions were renewed?"
   ]
  },
  {
   "cell_type": "code",
   "execution_count": 2,
   "id": "73ca3720-210a-4230-8601-2ef53803a02f",
   "metadata": {
    "executionCancelledAt": null,
    "executionTime": 9,
    "lastExecutedAt": 1761336651825,
    "lastExecutedByKernel": "40604faf-73c1-4ffc-b81a-964b3122fa70",
    "lastScheduledRunId": null,
    "lastSuccessfullyExecutedCode": "import pandas as pd\nimport numpy as np",
    "outputsMetadata": {
     "0": {
      "height": 196,
      "type": "dataFrame"
     }
    }
   },
   "outputs": [],
   "source": [
    "import pandas as pd\n",
    "import numpy as np"
   ]
  },
  {
   "cell_type": "code",
   "execution_count": 4,
   "id": "580f374c-a4dd-477a-8baa-4da00cd1caa6",
   "metadata": {
    "executionCancelledAt": null,
    "executionTime": null,
    "lastExecutedAt": null,
    "lastExecutedByKernel": null,
    "lastScheduledRunId": null,
    "lastSuccessfullyExecutedCode": null,
    "outputsMetadata": {
     "0": {
      "height": 248,
      "tableState": {},
      "type": "dataFrame"
     },
     "1": {
      "height": 220,
      "tableState": {
       "customFilter": {
        "const": {
         "type": "boolean",
         "valid": true,
         "value": true
        },
        "id": "673a20ab-1f31-49a9-bd4b-5a5e73066ac6",
        "nodeType": "const"
       }
      },
      "type": "dataFrame"
     },
     "2": {
      "height": 220,
      "tableState": {
       "customFilter": {
        "const": {
         "type": "boolean",
         "valid": true,
         "value": true
        },
        "id": "673a20ab-1f31-49a9-bd4b-5a5e73066ac6",
        "nodeType": "const"
       }
      },
      "type": "dataFrame"
     },
     "3": {
      "height": 378,
      "type": "stream"
     }
    },
    "scrolled": true
   },
   "outputs": [
    {
     "data": {
      "text/html": [
       "<div>\n",
       "<style scoped>\n",
       "    .dataframe tbody tr th:only-of-type {\n",
       "        vertical-align: middle;\n",
       "    }\n",
       "\n",
       "    .dataframe tbody tr th {\n",
       "        vertical-align: top;\n",
       "    }\n",
       "\n",
       "    .dataframe thead th {\n",
       "        text-align: right;\n",
       "    }\n",
       "</style>\n",
       "<table border=\"1\" class=\"dataframe\">\n",
       "  <thead>\n",
       "    <tr style=\"text-align: right;\">\n",
       "      <th></th>\n",
       "      <th>client_id</th>\n",
       "      <th>company_size</th>\n",
       "      <th>industry</th>\n",
       "      <th>location</th>\n",
       "    </tr>\n",
       "  </thead>\n",
       "  <tbody>\n",
       "    <tr>\n",
       "      <th>0</th>\n",
       "      <td>4280387012</td>\n",
       "      <td>Large</td>\n",
       "      <td>Fintech</td>\n",
       "      <td>New York</td>\n",
       "    </tr>\n",
       "    <tr>\n",
       "      <th>1</th>\n",
       "      <td>2095513148</td>\n",
       "      <td>Small</td>\n",
       "      <td>Fintech</td>\n",
       "      <td>New Jersey</td>\n",
       "    </tr>\n",
       "    <tr>\n",
       "      <th>2</th>\n",
       "      <td>7225516707</td>\n",
       "      <td>Medium</td>\n",
       "      <td>Fintech</td>\n",
       "      <td>Pennsylvania</td>\n",
       "    </tr>\n",
       "  </tbody>\n",
       "</table>\n",
       "</div>"
      ],
      "text/plain": [
       "    client_id company_size industry      location\n",
       "0  4280387012        Large  Fintech      New York\n",
       "1  2095513148        Small  Fintech    New Jersey\n",
       "2  7225516707       Medium  Fintech  Pennsylvania"
      ]
     },
     "metadata": {},
     "output_type": "display_data"
    },
    {
     "data": {
      "text/html": [
       "<div>\n",
       "<style scoped>\n",
       "    .dataframe tbody tr th:only-of-type {\n",
       "        vertical-align: middle;\n",
       "    }\n",
       "\n",
       "    .dataframe tbody tr th {\n",
       "        vertical-align: top;\n",
       "    }\n",
       "\n",
       "    .dataframe thead th {\n",
       "        text-align: right;\n",
       "    }\n",
       "</style>\n",
       "<table border=\"1\" class=\"dataframe\">\n",
       "  <thead>\n",
       "    <tr style=\"text-align: right;\">\n",
       "      <th></th>\n",
       "      <th>client_id</th>\n",
       "      <th>subscription_type</th>\n",
       "      <th>start_date</th>\n",
       "      <th>end_date</th>\n",
       "      <th>renewed</th>\n",
       "    </tr>\n",
       "  </thead>\n",
       "  <tbody>\n",
       "    <tr>\n",
       "      <th>0</th>\n",
       "      <td>1131383004</td>\n",
       "      <td>Yearly</td>\n",
       "      <td>2020-11-11</td>\n",
       "      <td>2021-11-11</td>\n",
       "      <td>False</td>\n",
       "    </tr>\n",
       "    <tr>\n",
       "      <th>1</th>\n",
       "      <td>4309371709</td>\n",
       "      <td>Monthly</td>\n",
       "      <td>2021-05-24</td>\n",
       "      <td>2021-06-23</td>\n",
       "      <td>True</td>\n",
       "    </tr>\n",
       "    <tr>\n",
       "      <th>2</th>\n",
       "      <td>3183675157</td>\n",
       "      <td>Yearly</td>\n",
       "      <td>2021-12-25</td>\n",
       "      <td>2022-12-25</td>\n",
       "      <td>True</td>\n",
       "    </tr>\n",
       "  </tbody>\n",
       "</table>\n",
       "</div>"
      ],
      "text/plain": [
       "    client_id subscription_type start_date   end_date  renewed\n",
       "0  1131383004            Yearly 2020-11-11 2021-11-11    False\n",
       "1  4309371709           Monthly 2021-05-24 2021-06-23     True\n",
       "2  3183675157            Yearly 2021-12-25 2022-12-25     True"
      ]
     },
     "metadata": {},
     "output_type": "display_data"
    },
    {
     "data": {
      "text/html": [
       "<div>\n",
       "<style scoped>\n",
       "    .dataframe tbody tr th:only-of-type {\n",
       "        vertical-align: middle;\n",
       "    }\n",
       "\n",
       "    .dataframe tbody tr th {\n",
       "        vertical-align: top;\n",
       "    }\n",
       "\n",
       "    .dataframe thead th {\n",
       "        text-align: right;\n",
       "    }\n",
       "</style>\n",
       "<table border=\"1\" class=\"dataframe\">\n",
       "  <thead>\n",
       "    <tr style=\"text-align: right;\">\n",
       "      <th></th>\n",
       "      <th>eco_indicator</th>\n",
       "      <th>start_date</th>\n",
       "      <th>end_date</th>\n",
       "      <th>inflation_rate</th>\n",
       "      <th>gdp_growth_rate</th>\n",
       "    </tr>\n",
       "  </thead>\n",
       "  <tbody>\n",
       "    <tr>\n",
       "      <th>0</th>\n",
       "      <td>0</td>\n",
       "      <td>2018-01-01</td>\n",
       "      <td>2018-03-31</td>\n",
       "      <td>5.77</td>\n",
       "      <td>3.51</td>\n",
       "    </tr>\n",
       "    <tr>\n",
       "      <th>1</th>\n",
       "      <td>1</td>\n",
       "      <td>2018-04-01</td>\n",
       "      <td>2018-06-30</td>\n",
       "      <td>1.17</td>\n",
       "      <td>2.15</td>\n",
       "    </tr>\n",
       "    <tr>\n",
       "      <th>2</th>\n",
       "      <td>2</td>\n",
       "      <td>2018-07-01</td>\n",
       "      <td>2018-09-30</td>\n",
       "      <td>1.56</td>\n",
       "      <td>1.82</td>\n",
       "    </tr>\n",
       "  </tbody>\n",
       "</table>\n",
       "</div>"
      ],
      "text/plain": [
       "   eco_indicator start_date   end_date  inflation_rate  gdp_growth_rate\n",
       "0              0 2018-01-01 2018-03-31            5.77             3.51\n",
       "1              1 2018-04-01 2018-06-30            1.17             2.15\n",
       "2              2 2018-07-01 2018-09-30            1.56             1.82"
      ]
     },
     "metadata": {},
     "output_type": "display_data"
    },
    {
     "name": "stdout",
     "output_type": "stream",
     "text": [
      "<class 'pandas.core.frame.DataFrame'>\n",
      "RangeIndex: 100 entries, 0 to 99\n",
      "Data columns (total 4 columns):\n",
      " #   Column        Non-Null Count  Dtype \n",
      "---  ------        --------------  ----- \n",
      " 0   client_id     100 non-null    int64 \n",
      " 1   company_size  100 non-null    object\n",
      " 2   industry      100 non-null    object\n",
      " 3   location      100 non-null    object\n",
      "dtypes: int64(1), object(3)\n",
      "memory usage: 3.3+ KB\n",
      "<class 'pandas.core.frame.DataFrame'>\n",
      "RangeIndex: 100 entries, 0 to 99\n",
      "Data columns (total 5 columns):\n",
      " #   Column             Non-Null Count  Dtype         \n",
      "---  ------             --------------  -----         \n",
      " 0   client_id          100 non-null    int64         \n",
      " 1   subscription_type  100 non-null    object        \n",
      " 2   start_date         100 non-null    datetime64[ns]\n",
      " 3   end_date           100 non-null    datetime64[ns]\n",
      " 4   renewed            100 non-null    bool          \n",
      "dtypes: bool(1), datetime64[ns](2), int64(1), object(1)\n",
      "memory usage: 3.4+ KB\n",
      "<class 'pandas.core.frame.DataFrame'>\n",
      "RangeIndex: 21 entries, 0 to 20\n",
      "Data columns (total 5 columns):\n",
      " #   Column           Non-Null Count  Dtype         \n",
      "---  ------           --------------  -----         \n",
      " 0   eco_indicator    21 non-null     int64         \n",
      " 1   start_date       21 non-null     datetime64[ns]\n",
      " 2   end_date         21 non-null     datetime64[ns]\n",
      " 3   inflation_rate   21 non-null     float64       \n",
      " 4   gdp_growth_rate  21 non-null     float64       \n",
      "dtypes: datetime64[ns](2), float64(2), int64(1)\n",
      "memory usage: 972.0 bytes\n"
     ]
    },
    {
     "data": {
      "text/plain": [
       "None"
      ]
     },
     "metadata": {},
     "output_type": "display_data"
    },
    {
     "data": {
      "text/plain": [
       "None"
      ]
     },
     "metadata": {},
     "output_type": "display_data"
    },
    {
     "data": {
      "text/plain": [
       "None"
      ]
     },
     "metadata": {},
     "output_type": "display_data"
    }
   ],
   "source": [
    "#import data\n",
    "client_df = pd.read_csv('client_details.csv')\n",
    "subscrp_df = pd.read_csv('subscription_records.csv', parse_dates = ['start_date','end_date'])\n",
    "eco_df = pd.read_csv('economic_indicators.csv', parse_dates = ['start_date','end_date']).rename(\n",
    "    columns={'Unnamed: 0':'eco_indicator'})\n",
    "\n",
    "#inspect data\n",
    "display(client_df.head(3), subscrp_df.head(3), eco_df.head(3))\n",
    "display(client_df.info(), subscrp_df.info(), eco_df.info())"
   ]
  },
  {
   "cell_type": "markdown",
   "id": "66ba0f2b",
   "metadata": {},
   "source": [
    "# Analysis I\n",
    "**How many total Fintech and Crypto clients does the company have?**"
   ]
  },
  {
   "cell_type": "code",
   "execution_count": 10,
   "id": "44780886-da1c-42da-9bb5-a8868c0d97b8",
   "metadata": {
    "executionCancelledAt": null,
    "executionTime": 52,
    "lastExecutedAt": 1761336651950,
    "lastExecutedByKernel": "40604faf-73c1-4ffc-b81a-964b3122fa70",
    "lastScheduledRunId": null,
    "lastSuccessfullyExecutedCode": "#Part I -- How many total Fintech and Crypto clients does the company have?\n\ntotal_fintech_crypto_clients = client_df[client_df.industry.isin(['Fintech','Crypto'])]['client_id'].count()\ndisplay(f\"The company has {total_fintech_crypto_clients} Fintech & Crypto clients.\")",
    "outputsMetadata": {
     "0": {
      "height": 194,
      "tableState": {
       "customFilter": {
        "const": {
         "type": "boolean",
         "valid": true,
         "value": true
        },
        "id": "673a20ab-1f31-49a9-bd4b-5a5e73066ac6",
        "nodeType": "const"
       }
      },
      "type": "dataFrame"
     },
     "1": {
      "height": 550,
      "tableState": {
       "customFilter": {
        "const": {
         "type": "boolean",
         "valid": true,
         "value": true
        },
        "id": "673a20ab-1f31-49a9-bd4b-5a5e73066ac6",
        "nodeType": "const"
       }
      },
      "type": "dataFrame"
     }
    }
   },
   "outputs": [
    {
     "data": {
      "text/plain": [
       "'The company has 22 Fintech & 25 Crypto clients (47 total).'"
      ]
     },
     "metadata": {},
     "output_type": "display_data"
    }
   ],
   "source": [
    "#calculate # clients per industry\n",
    "num_ind = client_df.groupby('industry')['client_id'].count().reset_index().rename(columns={'client_id':'# clients'})\n",
    "#obtain # Fintech clients\n",
    "num_Fintech = num_ind[num_ind.industry == 'Fintech']['# clients'].values[0]\n",
    "#obtain # Crypto clients\n",
    "num_Crypto = num_ind[num_ind.industry == 'Crypto']['# clients'].values[0]\n",
    "#take sum\n",
    "total_fintech_crypto_clients = num_Fintech + num_Crypto\n",
    "\n",
    "display(f\"The company has {num_Fintech} Fintech & {num_Crypto} Crypto clients ({total_fintech_crypto_clients} total).\")"
   ]
  },
  {
   "cell_type": "markdown",
   "id": "fa361662",
   "metadata": {},
   "source": [
    "# Analysis II\n",
    "**Which industry has the highest renewal rate?**"
   ]
  },
  {
   "cell_type": "code",
   "execution_count": 56,
   "id": "1bea2f65-5f6f-438e-8958-b7704f2067dc",
   "metadata": {
    "executionCancelledAt": null,
    "executionTime": 53,
    "lastExecutedAt": 1761336652003,
    "lastExecutedByKernel": "40604faf-73c1-4ffc-b81a-964b3122fa70",
    "lastScheduledRunId": null,
    "lastSuccessfullyExecutedCode": "#Part II -- Which industry has the highest renewal rate?\n#need to merge client & subscription data, can use the 'client_id' variable\nclient_subscrp_df = client_df.merge(subscrp_df, on='client_id')\n\n#obtain the # clients who renewed per industry & the # total clients per industry\nind_ren_nums = client_subscrp_df.groupby('industry').agg({'renewed':'sum', 'client_id':'count'}).reset_index().rename(columns={'renewed':'# renewed', 'client_id':'# clients'})\n#calculate the renewal rate per industry\nind_ren_nums['renewal_rate'] = np.round(ind_ren_nums['# renewed']/ind_ren_nums['# clients'], 3)\ndisplay(ind_ren_nums)\n\n#obtain the industry with the highest renewal rate\ntop_industry = ind_ren_nums.nlargest(1,'renewal_rate')['industry'].values[0]\n#the total # clients\ntop_ind_tot = ind_ren_nums[ind_ren_nums.industry == top_industry]['# clients'].values[0]\n#the # clients who renewed\ntop_ind_ren = ind_ren_nums[ind_ren_nums.industry == top_industry]['# renewed'].values[0]\n\ndisplay(f\"The {top_industry} industry saw the highest subscription renewal rate among their clients. Of their {top_ind_tot} total clients, {top_ind_ren} of them renewed their subscription.\")",
    "outputsMetadata": {
     "0": {
      "height": 248,
      "tableState": {
       "customFilter": {
        "const": {
         "type": "boolean",
         "valid": true,
         "value": true
        },
        "id": "673a20ab-1f31-49a9-bd4b-5a5e73066ac6",
        "nodeType": "const"
       }
      },
      "type": "dataFrame"
     }
    }
   },
   "outputs": [
    {
     "data": {
      "application/com.datacamp.data-table.v2+json": {
       "table": {
        "data": {
         "# clients": [
          11,
          25,
          20,
          22,
          22
         ],
         "# renewed": [
          7,
          11,
          9,
          12,
          16
         ],
         "index": [
          0,
          1,
          2,
          3,
          4
         ],
         "industry": [
          "AI",
          "Crypto",
          "E-commerce",
          "Fintech",
          "Gaming"
         ],
         "renewal_rate": [
          0.636,
          0.44,
          0.45,
          0.545,
          0.727
         ]
        },
        "schema": {
         "fields": [
          {
           "name": "index",
           "type": "integer"
          },
          {
           "name": "industry",
           "type": "string"
          },
          {
           "name": "# renewed",
           "type": "integer"
          },
          {
           "name": "# clients",
           "type": "integer"
          },
          {
           "name": "renewal_rate",
           "type": "number"
          }
         ],
         "pandas_version": "1.4.0",
         "primaryKey": [
          "index"
         ]
        }
       },
       "total_rows": 5,
       "truncation_type": null
      },
      "text/html": [
       "<div>\n",
       "<style scoped>\n",
       "    .dataframe tbody tr th:only-of-type {\n",
       "        vertical-align: middle;\n",
       "    }\n",
       "\n",
       "    .dataframe tbody tr th {\n",
       "        vertical-align: top;\n",
       "    }\n",
       "\n",
       "    .dataframe thead th {\n",
       "        text-align: right;\n",
       "    }\n",
       "</style>\n",
       "<table border=\"1\" class=\"dataframe\">\n",
       "  <thead>\n",
       "    <tr style=\"text-align: right;\">\n",
       "      <th></th>\n",
       "      <th>industry</th>\n",
       "      <th># renewed</th>\n",
       "      <th># clients</th>\n",
       "      <th>renewal_rate</th>\n",
       "    </tr>\n",
       "  </thead>\n",
       "  <tbody>\n",
       "    <tr>\n",
       "      <th>0</th>\n",
       "      <td>AI</td>\n",
       "      <td>7</td>\n",
       "      <td>11</td>\n",
       "      <td>0.636</td>\n",
       "    </tr>\n",
       "    <tr>\n",
       "      <th>1</th>\n",
       "      <td>Crypto</td>\n",
       "      <td>11</td>\n",
       "      <td>25</td>\n",
       "      <td>0.440</td>\n",
       "    </tr>\n",
       "    <tr>\n",
       "      <th>2</th>\n",
       "      <td>E-commerce</td>\n",
       "      <td>9</td>\n",
       "      <td>20</td>\n",
       "      <td>0.450</td>\n",
       "    </tr>\n",
       "    <tr>\n",
       "      <th>3</th>\n",
       "      <td>Fintech</td>\n",
       "      <td>12</td>\n",
       "      <td>22</td>\n",
       "      <td>0.545</td>\n",
       "    </tr>\n",
       "    <tr>\n",
       "      <th>4</th>\n",
       "      <td>Gaming</td>\n",
       "      <td>16</td>\n",
       "      <td>22</td>\n",
       "      <td>0.727</td>\n",
       "    </tr>\n",
       "  </tbody>\n",
       "</table>\n",
       "</div>"
      ],
      "text/plain": [
       "     industry  # renewed  # clients  renewal_rate\n",
       "0          AI          7         11         0.636\n",
       "1      Crypto         11         25         0.440\n",
       "2  E-commerce          9         20         0.450\n",
       "3     Fintech         12         22         0.545\n",
       "4      Gaming         16         22         0.727"
      ]
     },
     "metadata": {
      "application/com.datacamp.data-table.v2+json": {
       "status": "success"
      }
     },
     "output_type": "display_data"
    },
    {
     "data": {
      "text/plain": [
       "'The Gaming industry saw the highest subscription renewal rate among their clients. Of their 22 total clients, 16 of them renewed their subscription.'"
      ]
     },
     "metadata": {},
     "output_type": "display_data"
    }
   ],
   "source": [
    "#need to merge client & subscription data, can use the 'client_id' variable\n",
    "client_subscrp_df = client_df.merge(subscrp_df, on='client_id')\n",
    "\n",
    "#obtain the # clients who renewed per industry & the # total clients per industry\n",
    "ind_ren_nums = client_subscrp_df.groupby('industry').agg({'renewed':'sum', 'client_id':'count'}).reset_index().rename(\n",
    "    columns={'renewed':'# renewed', 'client_id':'# clients'})\n",
    "#calculate the renewal rate per industry\n",
    "ind_ren_nums['renewal_rate'] = np.round(ind_ren_nums['# renewed']/ind_ren_nums['# clients'], 3)\n",
    "display(ind_ren_nums)\n",
    "\n",
    "#obtain the industry with the highest renewal rate\n",
    "top_industry = ind_ren_nums.nlargest(1,'renewal_rate')['industry'].values[0]\n",
    "#the total # clients\n",
    "top_ind_tot = ind_ren_nums[ind_ren_nums.industry == top_industry]['# clients'].values[0]\n",
    "#the # clients who renewed\n",
    "top_ind_ren = ind_ren_nums[ind_ren_nums.industry == top_industry]['# renewed'].values[0]\n",
    "\n",
    "display(f\"The {top_industry} industry saw the highest subscription renewal rate among their clients. Of their {top_ind_tot} total clients, {top_ind_ren} of them renewed their subscription.\")"
   ]
  },
  {
   "cell_type": "markdown",
   "id": "350516ab",
   "metadata": {},
   "source": [
    "# Analysis III\n",
    "**For clients that renewed their subscriptions, what was the average inflation rate when their subscriptions were renewed?**\n",
    "\n",
    "It is assumed that subscriptions are renewed when they expire/end which is indicated via the 'end_date' variable from the subscriptions data.  \n",
    "To merge the subscriptions & economic-indicator datasets, the date variables must be used; however, the dates don't line up exactly because certain dates (from the subscription data) are being matched to ranges of dates (from the economic data). To execute this, `pandas.merge_asof` can be used to look for the most recent 'start_date' in the economic data based on the 'end_date' (renewal date) in the subscriptions data.\n",
    "- Note that with `pandas.merge_asof`, the variables being used to join the data need to be sorted. Fortunately, the economic data is sorted to begin with."
   ]
  },
  {
   "cell_type": "code",
   "execution_count": 57,
   "id": "806dc9b3-42a7-480d-8963-82a498968fbc",
   "metadata": {
    "executionCancelledAt": null,
    "executionTime": 51,
    "lastExecutedAt": 1761336652054,
    "lastExecutedByKernel": "40604faf-73c1-4ffc-b81a-964b3122fa70",
    "lastScheduledRunId": null,
    "lastSuccessfullyExecutedCode": "#Part III -- For clients that renewed their subscription, what was the avg inflation rate when their subscriptions were renewed?\n    #I'm assuming that subscriptions are renewed when they expire ('end_date' from the subcriptions data)\n\n#filter for clients that renewed their subscription\nren_df = subscrp_df[subscrp_df.renewed == True]\n\n#need to determine the eco_indicator period for each 'end_date' where a subscription was renewed\n    #can use `pandas.merge_asof`\n    #need to make sure that the dates are sorted; eco_df already is\nren_df = ren_df.sort_values('end_date')\n#merge the data\nrenewals_eco_df = pd.merge_asof(ren_df, eco_df, left_on='end_date', right_on='start_date', suffixes=(\"_subscrp\", \"_eco\"), direction='backward')\n\n#calculate the avg inflation rate\naverage_inflation_for_renewals = renewals_eco_df['inflation_rate'].mean()\ndisplay(f\"For clients that renewed their subscriptions, the average inflation rate when their subscriptions were renewed is about {np.round(average_inflation_for_renewals,2)}.\")",
    "outputsMetadata": {
     "0": {
      "height": 194,
      "tableState": {
       "customFilter": {
        "const": {
         "type": "boolean",
         "valid": true,
         "value": true
        },
        "id": "673a20ab-1f31-49a9-bd4b-5a5e73066ac6",
        "nodeType": "const"
       }
      },
      "type": "dataFrame"
     },
     "1": {
      "height": 166,
      "tableState": {
       "customFilter": {
        "const": {
         "type": "boolean",
         "valid": true,
         "value": true
        },
        "id": "673a20ab-1f31-49a9-bd4b-5a5e73066ac6",
        "nodeType": "const"
       }
      },
      "type": "dataFrame"
     },
     "2": {
      "height": 50,
      "tableState": {
       "customFilter": {
        "const": {
         "type": "boolean",
         "valid": true,
         "value": true
        },
        "id": "673a20ab-1f31-49a9-bd4b-5a5e73066ac6",
        "nodeType": "const"
       }
      },
      "type": "dataFrame"
     }
    }
   },
   "outputs": [
    {
     "data": {
      "text/plain": [
       "'For clients that renewed their subscriptions, the average inflation rate when their subscriptions were renewed is about 4.42.'"
      ]
     },
     "metadata": {},
     "output_type": "display_data"
    }
   ],
   "source": [
    "#filter for clients that renewed their subscription, sort the data according to the subscription-renewal date ('end_date')\n",
    "ren_df = subscrp_df[subscrp_df.renewed == True].sort_values('end_date')\n",
    "\n",
    "#merge the data\n",
    "renewals_eco_df = pd.merge_asof(ren_df, eco_df, left_on='end_date', right_on='start_date', suffixes=(\"_subscrp\", \"_eco\"), \n",
    "                                direction='backward')\n",
    "\n",
    "#calculate the avg inflation rate\n",
    "average_inflation_for_renewals = renewals_eco_df['inflation_rate'].mean()\n",
    "display(f\"For clients that renewed their subscriptions, the average inflation rate when their subscriptions were renewed is about {np.round(average_inflation_for_renewals,2)}.\")"
   ]
  }
 ],
 "metadata": {
  "colab": {
   "name": "Welcome to DataCamp Workspaces.ipynb",
   "provenance": []
  },
  "editor": "DataLab",
  "kernelspec": {
   "display_name": "Python 3 (ipykernel)",
   "language": "python",
   "name": "python3"
  },
  "language_info": {
   "codemirror_mode": {
    "name": "ipython",
    "version": 3
   },
   "file_extension": ".py",
   "mimetype": "text/x-python",
   "name": "python",
   "nbconvert_exporter": "python",
   "pygments_lexer": "ipython3",
   "version": "3.11.5"
  }
 },
 "nbformat": 4,
 "nbformat_minor": 5
}
